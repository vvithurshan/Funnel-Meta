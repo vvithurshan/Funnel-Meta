{
 "cells": [
  {
   "cell_type": "code",
   "execution_count": 2,
   "id": "b02ba3fd",
   "metadata": {},
   "outputs": [],
   "source": [
    "import pandas as pd\n",
    "import numpy as np"
   ]
  },
  {
   "cell_type": "code",
   "execution_count": 5,
   "id": "468d0aa7",
   "metadata": {},
   "outputs": [],
   "source": [
    "df = pd.read_csv(\"./DataFrame.csv\")"
   ]
  },
  {
   "cell_type": "code",
   "execution_count": 15,
   "id": "0af6b2a5",
   "metadata": {},
   "outputs": [
    {
     "data": {
      "text/plain": [
       "array(['ACYS1', 'AGLY2', 'AVAL3', 'APRO4', 'AALA5', 'AILE6', 'AGLN7',\n",
       "       'APRO8', 'AVAL9', 'ALEU10', 'ASER11', 'AGLY12', 'ALEU13', 'BILE16',\n",
       "       'BVAL17', 'BASN18', 'BGLY19', 'BGLU20', 'BGLU21', 'BALA22',\n",
       "       'BVAL23', 'BPRO24', 'BGLY25', 'BSER26', 'BTRP27', 'BPRO28',\n",
       "       'BTRP29', 'BGLN30', 'BVAL31', 'BSER32', 'BLEU33', 'BGLN34',\n",
       "       'BASP35', 'BLYS36', 'BTHR37', 'BGLY38', 'BPHE39', 'BHSD40',\n",
       "       'BPHE41', 'BCYS42', 'BGLY43', 'BGLY44', 'BSER45', 'BLEU46',\n",
       "       'BILE47', 'BASN48', 'BGLU49', 'BASN50', 'BTRP51', 'BVAL52',\n",
       "       'BVAL53', 'BTHR54', 'BALA55', 'BALA56', 'BHSD57', 'BCYS58',\n",
       "       'BGLY59', 'BVAL60', 'BTHR61', 'BTHR62', 'BSER63', 'BASP64',\n",
       "       'BVAL65', 'BVAL66', 'BVAL67', 'BALA68', 'BGLY69', 'BGLU70',\n",
       "       'BPHE71', 'BASP72', 'BGLN73', 'BGLY74', 'BSER75', 'BSER76',\n",
       "       'BSER77', 'BGLU78', 'BLYS79', 'BILE80', 'BGLN81', 'BLYS82',\n",
       "       'BLEU83', 'BLYS84', 'BILE85', 'BALA86', 'BLYS87', 'BVAL88',\n",
       "       'BPHE89', 'BLYS90', 'BASN91', 'BSER92', 'BLYS93', 'BTYR94',\n",
       "       'BASN95', 'BSER96', 'BLEU97', 'BTHR98', 'BILE99', 'BASN100',\n",
       "       'BASN101', 'BASP102', 'BILE103', 'BTHR104', 'BLEU105', 'BLEU106',\n",
       "       'BLYS107', 'BLEU108', 'BSER109', 'BTHR110', 'BALA111', 'BALA112',\n",
       "       'BSER113', 'BPHE114', 'BSER115', 'BGLN116', 'BTHR117', 'BVAL118',\n",
       "       'BSER119', 'BALA120', 'BVAL121', 'BCYS122', 'BLEU123', 'BPRO124',\n",
       "       'BSER125', 'BALA126', 'BSER127', 'BASP128', 'BASP129', 'BPHE130',\n",
       "       'BALA131', 'BALA132', 'BGLY133', 'BTHR134', 'BTHR135', 'BCYS136',\n",
       "       'BVAL137', 'BTHR138', 'BTHR139', 'BGLY140', 'BTRP141', 'BGLY142',\n",
       "       'BLEU143', 'BTHR144', 'BARG145', 'BTYR146', 'CALA149', 'CASN150',\n",
       "       'CTHR151', 'CPRO152', 'CASP153', 'CARG154', 'CLEU155', 'CGLN156',\n",
       "       'CGLN157', 'CALA158', 'CSER159', 'CLEU160', 'CPRO161', 'CLEU162',\n",
       "       'CLEU163', 'CSER164', 'CASN165', 'CTHR166', 'CASN167', 'CCYS168',\n",
       "       'CLYS169', 'CLYS170', 'CTYR171', 'CTRP172', 'CGLY173', 'CTHR174',\n",
       "       'CLYS175', 'CILE176', 'CLYS177', 'CASP178', 'CALA179', 'CMET180',\n",
       "       'CILE181', 'CCYS182', 'CALA183', 'CGLY184', 'CALA185', 'CSER186',\n",
       "       'CGLY187', 'CVAL188', 'CSER189', 'CSER190', 'CCYS191', 'CMET192',\n",
       "       'CGLY193', 'CASP194', 'CSER195', 'CGLY196', 'CGLY197', 'CPRO198',\n",
       "       'CLEU199', 'CVAL200', 'CCYS201', 'CLYS202', 'CLYS203', 'CASN204',\n",
       "       'CGLY205', 'CALA206', 'CTRP207', 'CTHR208', 'CLEU209', 'CVAL210',\n",
       "       'CGLY211', 'CILE212', 'CVAL213', 'CSER214', 'CTRP215', 'CGLY216',\n",
       "       'CSER217', 'CSER218', 'CTHR219', 'CCYS220', 'CSER221', 'CTHR222',\n",
       "       'CSER223', 'CTHR224', 'CPRO225', 'CGLY226', 'CVAL227', 'CTYR228',\n",
       "       'CALA229', 'CARG230', 'CVAL231', 'CTHR232', 'CALA233', 'CLEU234',\n",
       "       'CVAL235', 'CASN236', 'CTRP237', 'CVAL238', 'CGLN239', 'CGLN240',\n",
       "       'CTHR241', 'CLEU242', 'CALA243', 'CALA244', 'CASN245', 'SPRO1',\n",
       "       'SALA2', 'SPHE3', 'SPHE4'], dtype=object)"
      ]
     },
     "execution_count": 15,
     "metadata": {},
     "output_type": "execute_result"
    }
   ],
   "source": [
    "df.iloc[:, 1].unique()"
   ]
  },
  {
   "cell_type": "code",
   "execution_count": 26,
   "id": "270d1a50",
   "metadata": {},
   "outputs": [],
   "source": [
    "res = ['ACYS1', 'AGLY2', 'AVAL3', 'APRO4', 'AALA5', 'AILE6', 'AGLN7',\n",
    "       'APRO8', 'AVAL9', 'ALEU10', 'ASER11', 'AGLY12', 'ALEU13', 'BILE16',\n",
    "       'BVAL17', 'BASN18', 'BGLY19', 'BGLU20', 'BGLU21', 'BALA22',\n",
    "       'BVAL23', 'BPRO24', 'BGLY25', 'BSER26', 'BTRP27', 'BPRO28',\n",
    "       'BTRP29', 'BGLN30', 'BVAL31', 'BSER32', 'BLEU33', 'BGLN34',\n",
    "       'BASP35', 'BLYS36', 'BTHR37', 'BGLY38', 'BPHE39', 'BHSD40',\n",
    "       'BPHE41', 'BCYS42', 'BGLY43', 'BGLY44', 'BSER45', 'BLEU46',\n",
    "       'BILE47', 'BASN48', 'BGLU49', 'BASN50', 'BTRP51', 'BVAL52',\n",
    "       'BVAL53', 'BTHR54', 'BALA55', 'BALA56', 'BHSD57', 'BCYS58',\n",
    "       'BGLY59', 'BVAL60', 'BTHR61', 'BTHR62', 'BSER63', 'BASP64',\n",
    "       'BVAL65', 'BVAL66', 'BVAL67', 'BALA68', 'BGLY69', 'BGLU70',\n",
    "       'BPHE71', 'BASP72', 'BGLN73', 'BGLY74', 'BSER75', 'BSER76',\n",
    "       'BSER77', 'BGLU78', 'BLYS79', 'BILE80', 'BGLN81', 'BLYS82',\n",
    "       'BLEU83', 'BLYS84', 'BILE85', 'BALA86', 'BLYS87', 'BVAL88',\n",
    "       'BPHE89', 'BLYS90', 'BASN91', 'BSER92', 'BLYS93', 'BTYR94',\n",
    "       'BASN95', 'BSER96', 'BLEU97', 'BTHR98', 'BILE99', 'BASN100',\n",
    "       'BASN101', 'BASP102', 'BILE103', 'BTHR104', 'BLEU105', 'BLEU106',\n",
    "       'BLYS107', 'BLEU108', 'BSER109', 'BTHR110', 'BALA111', 'BALA112',\n",
    "       'BSER113', 'BPHE114', 'BSER115', 'BGLN116', 'BTHR117', 'BVAL118',\n",
    "       'BSER119', 'BALA120', 'BVAL121', 'BCYS122', 'BLEU123', 'BPRO124',\n",
    "       'BSER125', 'BALA126', 'BSER127', 'BASP128', 'BASP129', 'BPHE130',\n",
    "       'BALA131', 'BALA132', 'BGLY133', 'BTHR134', 'BTHR135', 'BCYS136',\n",
    "       'BVAL137', 'BTHR138', 'BTHR139', 'BGLY140', 'BTRP141', 'BGLY142',\n",
    "       'BLEU143', 'BTHR144', 'BARG145', 'BTYR146', 'CALA149', 'CASN150',\n",
    "       'CTHR151', 'CPRO152', 'CASP153', 'CARG154', 'CLEU155', 'CGLN156',\n",
    "       'CGLN157', 'CALA158', 'CSER159', 'CLEU160', 'CPRO161', 'CLEU162',\n",
    "       'CLEU163', 'CSER164', 'CASN165', 'CTHR166', 'CASN167', 'CCYS168',\n",
    "       'CLYS169', 'CLYS170', 'CTYR171', 'CTRP172', 'CGLY173', 'CTHR174',\n",
    "       'CLYS175', 'CILE176', 'CLYS177', 'CASP178', 'CALA179', 'CMET180',\n",
    "       'CILE181', 'CCYS182', 'CALA183', 'CGLY184', 'CALA185', 'CSER186',\n",
    "       'CGLY187', 'CVAL188', 'CSER189', 'CSER190', 'CCYS191', 'CMET192',\n",
    "       'CGLY193', 'CASP194', 'CSER195', 'CGLY196', 'CGLY197', 'CPRO198',\n",
    "       'CLEU199', 'CVAL200', 'CCYS201', 'CLYS202', 'CLYS203', 'CASN204',\n",
    "       'CGLY205', 'CALA206', 'CTRP207', 'CTHR208', 'CLEU209', 'CVAL210',\n",
    "       'CGLY211', 'CILE212', 'CVAL213', 'CSER214', 'CTRP215', 'CGLY216',\n",
    "       'CSER217', 'CSER218', 'CTHR219', 'CCYS220', 'CSER221', 'CTHR222',\n",
    "       'CSER223', 'CTHR224', 'CPRO225', 'CGLY226', 'CVAL227', 'CTYR228',\n",
    "       'CALA229', 'CARG230', 'CVAL231', 'CTHR232', 'CALA233', 'CLEU234',\n",
    "       'CVAL235', 'CASN236', 'CTRP237', 'CVAL238', 'CGLN239', 'CGLN240',\n",
    "       'CTHR241', 'CLEU242', 'CALA243', 'CALA244', 'CASN245']"
   ]
  },
  {
   "cell_type": "code",
   "execution_count": 27,
   "id": "817728ff",
   "metadata": {},
   "outputs": [
    {
     "data": {
      "text/plain": [
       "241"
      ]
     },
     "execution_count": 27,
     "metadata": {},
     "output_type": "execute_result"
    }
   ],
   "source": [
    "len(res)"
   ]
  },
  {
   "cell_type": "code",
   "execution_count": 28,
   "id": "865997b7",
   "metadata": {},
   "outputs": [],
   "source": [
    "P1 = [0] * 241\n",
    "P2 = [0] * 241\n",
    "P3 = [0] * 241\n",
    "P4 = [0] * 241\n",
    "P11 = [0] * 241\n",
    "P22 = [0] * 241\n",
    "P33 = [0] * 241\n"
   ]
  },
  {
   "cell_type": "code",
   "execution_count": 29,
   "id": "0d8f0312",
   "metadata": {},
   "outputs": [],
   "source": [
    "dic = {'Res':res, 'P1':P1, 'P2':P2,'P3':P3,'P4':P4,'P11':P11,'P22':P22,'P33':P33}"
   ]
  },
  {
   "cell_type": "code",
   "execution_count": 32,
   "id": "f6f7a1f0",
   "metadata": {},
   "outputs": [
    {
     "data": {
      "text/plain": [
       "'1'"
      ]
     },
     "execution_count": 32,
     "metadata": {},
     "output_type": "execute_result"
    }
   ],
   "source": [
    "dic['Res'][0][4:]"
   ]
  },
  {
   "cell_type": "code",
   "execution_count": null,
   "id": "a6680c6a",
   "metadata": {},
   "outputs": [],
   "source": []
  }
 ],
 "metadata": {
  "kernelspec": {
   "display_name": "Python 3 (ipykernel)",
   "language": "python",
   "name": "python3"
  },
  "language_info": {
   "codemirror_mode": {
    "name": "ipython",
    "version": 3
   },
   "file_extension": ".py",
   "mimetype": "text/x-python",
   "name": "python",
   "nbconvert_exporter": "python",
   "pygments_lexer": "ipython3",
   "version": "3.9.7"
  }
 },
 "nbformat": 4,
 "nbformat_minor": 5
}
